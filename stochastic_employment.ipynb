{
 "cells": [
  {
   "cell_type": "code",
   "execution_count": 1,
   "metadata": {},
   "outputs": [
    {
     "data": {
      "text/plain": [
       "do_VFI (generic function with 1 method)"
      ]
     },
     "metadata": {},
     "output_type": "display_data"
    }
   ],
   "source": [
    "include(\"stochastic_employment.jl\")"
   ]
  },
  {
   "cell_type": "code",
   "execution_count": 2,
   "metadata": {},
   "outputs": [
    {
     "data": {
      "text/plain": [
       "-20.0"
      ]
     },
     "metadata": {},
     "output_type": "display_data"
    }
   ],
   "source": [
    "# Set parameters\n",
    "β = 0.95\n",
    "\n",
    "δ = 0.\n",
    "α  = 1.\n",
    "η = -0.5\n",
    "A = 1.\n",
    "h_0 = 1.\n",
    "\n",
    "γ = 0.\n",
    "θ = 1.\n",
    "ε = 0.5\n",
    "\n",
    "z = 1.\n",
    "r = 0.05\n",
    "\n",
    "λ_f = 0.95\n",
    "λ_l = 0.05\n",
    "\n",
    "# Set up grid lengths\n",
    "h_N = 100\n",
    "a_N = 100\n",
    "e_N = 2\n",
    "\n",
    "# Define parameters\n",
    "a_lbar = -z / r"
   ]
  },
  {
   "cell_type": "code",
   "execution_count": 3,
   "metadata": {},
   "outputs": [
    {
     "data": {
      "text/plain": [
       "([0, 1], [0.050000000000000044 0.95; 0.05 0.95])"
      ]
     },
     "metadata": {},
     "output_type": "display_data"
    }
   ],
   "source": [
    "# Set up grids\n",
    "h_grid = collect(range(0, 100, h_N))\n",
    "a_grid = collect(range(a_lbar, -a_lbar, a_N))\n",
    "e_grid, trans_mat = calculate_emp_process(λ_f, λ_l)"
   ]
  },
  {
   "cell_type": "code",
   "execution_count": 4,
   "metadata": {},
   "outputs": [
    {
     "name": "stdout",
     "output_type": "stream",
     "text": [
      "Making flow value matrix ...\n"
     ]
    },
    {
     "name": "stdout",
     "output_type": "stream",
     "text": [
      "Starting iteration ...\n"
     ]
    },
    {
     "data": {
      "text/plain": [
       "([0.0, 1.0101010101010102, 2.0202020202020203, 3.0303030303030303, 4.040404040404041, 5.05050505050505, 6.0606060606060606, 7.070707070707071, 8.080808080808081, 9.090909090909092  …  90.9090909090909, 91.91919191919192, 92.92929292929293, 93.93939393939394, 94.94949494949495, 95.95959595959596, 96.96969696969697, 97.97979797979798, 98.98989898989899, 100.0], [-20.0, -19.595959595959595, -19.19191919191919, -18.78787878787879, -18.383838383838384, -17.97979797979798, -17.575757575757574, -17.171717171717173, -16.767676767676768, -16.363636363636363  …  16.363636363636363, 16.767676767676768, 17.171717171717173, 17.575757575757574, 17.97979797979798, 18.383838383838384, 18.78787878787879, 19.19191919191919, 19.595959595959595, 20.0], [0, 1], [Inf Inf … Inf Inf; Inf Inf … Inf Inf; … ; Inf Inf … Inf Inf; Inf Inf … Inf Inf;;; -Inf -Inf … Inf Inf; Inf Inf … Inf Inf; … ; Inf Inf … Inf Inf; Inf Inf … Inf Inf], [0.0 0.0 … 0.0 0.0; 1.0101010101010102 1.0101010101010102 … 1.0101010101010102 1.0101010101010102; … ; 98.98989898989899 98.98989898989899 … 98.98989898989899 98.98989898989899; 100.0 100.0 … 100.0 100.0;;; NaN NaN … 0.0 0.0; 1.0101010101010102 1.0101010101010102 … 1.0101010101010102 1.0101010101010102; … ; 98.98989898989899 98.98989898989899 … 98.98989898989899 98.98989898989899; 100.0 100.0 … 100.0 100.0], [-20.0 -20.0 … -20.0 -20.0; -20.0 -20.0 … -20.0 -20.0; … ; -20.0 -20.0 … -20.0 -20.0; -20.0 -20.0 … -20.0 -20.0;;; NaN NaN … -20.0 -20.0; -20.0 -20.0 … -20.0 -20.0; … ; -20.0 -20.0 … -20.0 -20.0; -20.0 -20.0 … -20.0 -20.0])"
      ]
     },
     "metadata": {},
     "output_type": "display_data"
    }
   ],
   "source": [
    "results = do_VFI(\n",
    "    flow_value, h_grid, a_grid, e_grid, trans_mat, β,\n",
    "    δ=δ, α=α, η=η, A=A, γ=γ, θ=θ, ε=ε, z=z, r=r\n",
    ")"
   ]
  }
 ],
 "metadata": {
  "kernelspec": {
   "display_name": "Julia 1.8.5",
   "language": "julia",
   "name": "julia-1.8"
  },
  "language_info": {
   "file_extension": ".jl",
   "mimetype": "application/julia",
   "name": "julia",
   "version": "1.8.5"
  },
  "orig_nbformat": 4
 },
 "nbformat": 4,
 "nbformat_minor": 2
}
