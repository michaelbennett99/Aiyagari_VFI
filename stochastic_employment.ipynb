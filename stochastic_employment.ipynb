{
 "cells": [
  {
   "cell_type": "code",
   "execution_count": 11,
   "metadata": {},
   "outputs": [],
   "source": [
    "include(\"stochastic_employment.jl\")\n",
    "\n",
    "using ProfileSVG, BenchmarkTools"
   ]
  },
  {
   "cell_type": "code",
   "execution_count": 12,
   "metadata": {},
   "outputs": [
    {
     "data": {
      "text/plain": [
       "8"
      ]
     },
     "execution_count": 12,
     "metadata": {},
     "output_type": "execute_result"
    }
   ],
   "source": [
    "Threads.nthreads()"
   ]
  },
  {
   "cell_type": "code",
   "execution_count": 13,
   "metadata": {},
   "outputs": [
    {
     "data": {
      "text/plain": [
       "([0, 1], [0.050000000000000044 0.95; 0.05 0.95])"
      ]
     },
     "execution_count": 13,
     "metadata": {},
     "output_type": "execute_result"
    }
   ],
   "source": [
    "# Set parameters\n",
    "β = 0.95\n",
    "\n",
    "δ = 0.\n",
    "α  = 1.\n",
    "η = -0.5\n",
    "A = 1.\n",
    "h_0 = 1.\n",
    "\n",
    "γ = 0.\n",
    "θ = 1.\n",
    "ε = 0.5\n",
    "\n",
    "z = 1.\n",
    "r = 0.05\n",
    "\n",
    "λ_f = 0.95\n",
    "λ_l = 0.05\n",
    "\n",
    "# Set up grid lengths\n",
    "h_N = 10\n",
    "a_N = 10\n",
    "e_N = 2\n",
    "\n",
    "# Define parameters\n",
    "a_lbar = -z / r * 0.99\n",
    "\n",
    "# Set up grids\n",
    "h_grid = collect(Float64, range(1, 5, h_N))\n",
    "a_grid = collect(Float64, range(a_lbar, -a_lbar, a_N))\n",
    "e_grid, trans_mat = calculate_emp_process(λ_f, λ_l)"
   ]
  },
  {
   "cell_type": "code",
   "execution_count": 14,
   "metadata": {},
   "outputs": [
    {
     "name": "stdout",
     "output_type": "stream",
     "text": [
      "  0.187940 seconds (174.08 k allocations: 56.017 MiB, 22.55% gc time, 57.31% compilation time)\n"
     ]
    }
   ],
   "source": [
    "@time for _ ∈ 1:300\n",
    "    make_flow_value_mat(\n",
    "        flow_value,\n",
    "        h_grid, a_grid, e_grid, h_grid, a_grid;\n",
    "        z=z, A=A, δ=δ, α=α, η=η, θ=θ, γ=γ, ε=ε, r=r\n",
    "    )\n",
    "end"
   ]
  },
  {
   "cell_type": "code",
   "execution_count": 15,
   "metadata": {},
   "outputs": [
    {
     "name": "stdout",
     "output_type": "stream",
     "text": [
      "Making flow value matrix ...\n",
      "Starting iteration ...\n"
     ]
    },
    {
     "ename": "LoadError",
     "evalue": "TaskFailedException\n\n\u001b[91m    nested task error: \u001b[39mUndefVarError: val_i_hp not defined\n    Stacktrace:\n     [1] \u001b[0m\u001b[1mmax_V_ix\u001b[22m\u001b[0m\u001b[1m(\u001b[22m\u001b[90mvalue_fn\u001b[39m::\u001b[0mvar\"#value_fn_spec#61\"\u001b[90m{Matrix{Float64}, Float64, Array{Float64, 5}}\u001b[39m, \u001b[90mV\u001b[39m::\u001b[0mArray\u001b[90m{Float64, 3}\u001b[39m, \u001b[90mi_h\u001b[39m::\u001b[0mInt64, \u001b[90mi_a\u001b[39m::\u001b[0mInt64, \u001b[90mi_e\u001b[39m::\u001b[0mInt64\u001b[0m\u001b[1m)\u001b[22m\n    \u001b[90m   @ \u001b[39m\u001b[35mMain\u001b[39m \u001b[90m~/Dropbox/Yale/Year 1/Computational Methods/Project/code/\u001b[39m\u001b[90m\u001b[4mstochastic_employment.jl:121\u001b[24m\u001b[39m\n     [2] \u001b[0m\u001b[1mmacro expansion\u001b[22m\n    \u001b[90m   @ \u001b[39m\u001b[90m~/Dropbox/Yale/Year 1/Computational Methods/Project/code/\u001b[39m\u001b[90m\u001b[4mstochastic_employment.jl:158\u001b[24m\u001b[39m\u001b[90m [inlined]\u001b[39m\n     [3] \u001b[0m\u001b[1m(::var\"#198#threadsfor_fun#62\"{var\"#198#threadsfor_fun#58#63\"{var\"#value_fn_spec#61\"{Matrix{Float64}, Float64, Array{Float64, 5}}, Array{Int64, 3}, Array{Int64, 3}, Int64, Int64, Array{Float64, 3}, UnitRange{Int64}}})\u001b[22m\u001b[0m\u001b[1m(\u001b[22m\u001b[90mtid\u001b[39m::\u001b[0mInt64; \u001b[90monethread\u001b[39m::\u001b[0mBool\u001b[0m\u001b[1m)\u001b[22m\n    \u001b[90m   @ \u001b[39m\u001b[35mMain\u001b[39m \u001b[90m./\u001b[39m\u001b[90m\u001b[4mthreadingconstructs.jl:84\u001b[24m\u001b[39m\n     [4] \u001b[0m\u001b[1m#198#threadsfor_fun\u001b[22m\n    \u001b[90m   @ \u001b[39m\u001b[90m./\u001b[39m\u001b[90m\u001b[4mthreadingconstructs.jl:51\u001b[24m\u001b[39m\u001b[90m [inlined]\u001b[39m\n     [5] \u001b[0m\u001b[1m(::Base.Threads.var\"#1#2\"{var\"#198#threadsfor_fun#62\"{var\"#198#threadsfor_fun#58#63\"{var\"#value_fn_spec#61\"{Matrix{Float64}, Float64, Array{Float64, 5}}, Array{Int64, 3}, Array{Int64, 3}, Int64, Int64, Array{Float64, 3}, UnitRange{Int64}}}, Int64})\u001b[22m\u001b[0m\u001b[1m(\u001b[22m\u001b[0m\u001b[1m)\u001b[22m\n    \u001b[90m   @ \u001b[39m\u001b[90mBase.Threads\u001b[39m \u001b[90m./\u001b[39m\u001b[90m\u001b[4mthreadingconstructs.jl:30\u001b[24m\u001b[39m",
     "output_type": "error",
     "traceback": [
      "TaskFailedException\n\n\u001b[91m    nested task error: \u001b[39mUndefVarError: val_i_hp not defined\n    Stacktrace:\n     [1] \u001b[0m\u001b[1mmax_V_ix\u001b[22m\u001b[0m\u001b[1m(\u001b[22m\u001b[90mvalue_fn\u001b[39m::\u001b[0mvar\"#value_fn_spec#61\"\u001b[90m{Matrix{Float64}, Float64, Array{Float64, 5}}\u001b[39m, \u001b[90mV\u001b[39m::\u001b[0mArray\u001b[90m{Float64, 3}\u001b[39m, \u001b[90mi_h\u001b[39m::\u001b[0mInt64, \u001b[90mi_a\u001b[39m::\u001b[0mInt64, \u001b[90mi_e\u001b[39m::\u001b[0mInt64\u001b[0m\u001b[1m)\u001b[22m\n    \u001b[90m   @ \u001b[39m\u001b[35mMain\u001b[39m \u001b[90m~/Dropbox/Yale/Year 1/Computational Methods/Project/code/\u001b[39m\u001b[90m\u001b[4mstochastic_employment.jl:121\u001b[24m\u001b[39m\n     [2] \u001b[0m\u001b[1mmacro expansion\u001b[22m\n    \u001b[90m   @ \u001b[39m\u001b[90m~/Dropbox/Yale/Year 1/Computational Methods/Project/code/\u001b[39m\u001b[90m\u001b[4mstochastic_employment.jl:158\u001b[24m\u001b[39m\u001b[90m [inlined]\u001b[39m\n     [3] \u001b[0m\u001b[1m(::var\"#198#threadsfor_fun#62\"{var\"#198#threadsfor_fun#58#63\"{var\"#value_fn_spec#61\"{Matrix{Float64}, Float64, Array{Float64, 5}}, Array{Int64, 3}, Array{Int64, 3}, Int64, Int64, Array{Float64, 3}, UnitRange{Int64}}})\u001b[22m\u001b[0m\u001b[1m(\u001b[22m\u001b[90mtid\u001b[39m::\u001b[0mInt64; \u001b[90monethread\u001b[39m::\u001b[0mBool\u001b[0m\u001b[1m)\u001b[22m\n    \u001b[90m   @ \u001b[39m\u001b[35mMain\u001b[39m \u001b[90m./\u001b[39m\u001b[90m\u001b[4mthreadingconstructs.jl:84\u001b[24m\u001b[39m\n     [4] \u001b[0m\u001b[1m#198#threadsfor_fun\u001b[22m\n    \u001b[90m   @ \u001b[39m\u001b[90m./\u001b[39m\u001b[90m\u001b[4mthreadingconstructs.jl:51\u001b[24m\u001b[39m\u001b[90m [inlined]\u001b[39m\n     [5] \u001b[0m\u001b[1m(::Base.Threads.var\"#1#2\"{var\"#198#threadsfor_fun#62\"{var\"#198#threadsfor_fun#58#63\"{var\"#value_fn_spec#61\"{Matrix{Float64}, Float64, Array{Float64, 5}}, Array{Int64, 3}, Array{Int64, 3}, Int64, Int64, Array{Float64, 3}, UnitRange{Int64}}}, Int64})\u001b[22m\u001b[0m\u001b[1m(\u001b[22m\u001b[0m\u001b[1m)\u001b[22m\n    \u001b[90m   @ \u001b[39m\u001b[90mBase.Threads\u001b[39m \u001b[90m./\u001b[39m\u001b[90m\u001b[4mthreadingconstructs.jl:30\u001b[24m\u001b[39m",
      "",
      "Stacktrace:",
      " [1] wait",
      "   @ ./task.jl:345 [inlined]",
      " [2] threading_run(fun::var\"#198#threadsfor_fun#62\"{var\"#198#threadsfor_fun#58#63\"{var\"#value_fn_spec#61\"{Matrix{Float64}, Float64, Array{Float64, 5}}, Array{Int64, 3}, Array{Int64, 3}, Int64, Int64, Array{Float64, 3}, UnitRange{Int64}}}, static::Bool)",
      "   @ Base.Threads ./threadingconstructs.jl:38",
      " [3] macro expansion",
      "   @ ./threadingconstructs.jl:89 [inlined]",
      " [4] do_VFI(flow_value::Function, h_grid::Vector{Float64}, a_grid::Vector{Float64}, e_grid::Vector{Int64}, trans_mat::Matrix{Float64}, β::Float64; tol::Float64, max_iter::Int64, kwargs::Base.Pairs{Symbol, Float64, NTuple{9, Symbol}, NamedTuple{(:δ, :α, :η, :A, :γ, :θ, :ε, :z, :r), NTuple{9, Float64}}})",
      "   @ Main ~/Dropbox/Yale/Year 1/Computational Methods/Project/code/stochastic_employment.jl:155",
      " [5] top-level scope",
      "   @ In[15]:1"
     ]
    }
   ],
   "source": [
    "results = do_VFI(\n",
    "    flow_value, h_grid, a_grid, e_grid, trans_mat, β,\n",
    "    δ=δ, α=α, η=η, A=A, γ=γ, θ=θ, ε=ε, z=z, r=r\n",
    ")"
   ]
  },
  {
   "cell_type": "code",
   "execution_count": null,
   "metadata": {},
   "outputs": [
    {
     "name": "stdout",
     "output_type": "stream",
     "text": [
      "Making flow value matrix ...\n",
      "Starting iteration ...\n",
      "Iteration 0. Diff = 4.605170185988291.\n",
      "Iteration 25. Diff = 0.40196384755038395.\n",
      "Iteration 50. Diff = 0.10721391681755676.\n",
      "Iteration 75. Diff = 0.02953638873594855.\n",
      "Iteration 100. Diff = 0.008138943710967794.\n",
      "Iteration 125. Diff = 0.0022435790844355097.\n",
      "Iteration 150. Diff = 0.0006188806536968627.\n",
      "Iteration 175. Diff = 0.0001708846536701003.\n",
      "Iteration 200. Diff = 4.723846681287114e-5.\n",
      "Iteration 225. Diff = 1.3072424202675847e-5.\n",
      "Iteration 250. Diff = 3.620698258544053e-6.\n",
      "Iteration 275. Diff = 1.0034490927068873e-6.\n"
     ]
    },
    {
     "name": "stderr",
     "output_type": "stream",
     "text": [
      "\u001b[33m\u001b[1m┌ \u001b[22m\u001b[39m\u001b[33m\u001b[1mWarning: \u001b[22m\u001b[39mThe profile data buffer is full; profiling probably terminated\n",
      "\u001b[33m\u001b[1m│ \u001b[22m\u001b[39mbefore your program finished. To profile for longer runs, call\n",
      "\u001b[33m\u001b[1m│ \u001b[22m\u001b[39m`Profile.init()` with a larger buffer and/or larger delay.\n",
      "\u001b[33m\u001b[1m└ \u001b[22m\u001b[39m\u001b[90m@ Profile /Users/julia/.julia/scratchspaces/a66863c6-20e8-4ff4-8a62-49f30b1f605e/agent-cache/default-macmini-aarch64-4.0/build/default-macmini-aarch64-4-0/julialang/julia-release-1-dot-8/usr/share/julia/stdlib/v1.8/Profile/src/Profile.jl:631\u001b[39m\n",
      "\u001b[33m\u001b[1m┌ \u001b[22m\u001b[39m\u001b[33m\u001b[1mWarning: \u001b[22m\u001b[39mThe profile data buffer is full; profiling probably terminated\n",
      "\u001b[33m\u001b[1m│ \u001b[22m\u001b[39mbefore your program finished. To profile for longer runs, call\n",
      "\u001b[33m\u001b[1m│ \u001b[22m\u001b[39m`Profile.init()` with a larger buffer and/or larger delay.\n",
      "\u001b[33m\u001b[1m└ \u001b[22m\u001b[39m\u001b[90m@ Profile /Users/julia/.julia/scratchspaces/a66863c6-20e8-4ff4-8a62-49f30b1f605e/agent-cache/default-macmini-aarch64-4.0/build/default-macmini-aarch64-4-0/julialang/julia-release-1-dot-8/usr/share/julia/stdlib/v1.8/Profile/src/Profile.jl:631\u001b[39m\n"
     ]
    }
   ],
   "source": [
    "ProfileSVG.@profview do_VFI(\n",
    "    flow_value, h_grid, a_grid, e_grid, trans_mat, β,\n",
    "    δ=δ, α=α, η=η, A=A, γ=γ, θ=θ, ε=ε, z=z, r=r\n",
    ")\n",
    "ProfileSVG.save(\"profile.svg\")"
   ]
  },
  {
   "cell_type": "code",
   "execution_count": null,
   "metadata": {},
   "outputs": [
    {
     "name": "stdout",
     "output_type": "stream",
     "text": [
      "Making flow value matrix ...\n",
      "Starting iteration ...\n",
      "Iteration 0. Diff = 4.605170185988291.\n",
      "Iteration 25. Diff = 0.40196384755038395.\n",
      "Iteration 50. Diff = 0.10721391681755676.\n",
      "Iteration 75. Diff = 0.02953638873594855.\n",
      "Iteration 100. Diff = 0.008138943710967794.\n",
      "Iteration 125. Diff = 0.0022435790844355097.\n",
      "Iteration 150. Diff = 0.0006188806536968627.\n",
      "Iteration 175. Diff = 0.0001708846536701003.\n",
      "Iteration 200. Diff = 4.723846681287114e-5.\n",
      "Iteration 225. Diff = 1.3072424202675847e-5.\n",
      "Iteration 250. Diff = 3.620698258544053e-6.\n",
      "Iteration 275. Diff = 1.0034490927068873e-6.\n",
      "2527.671468 seconds (166.20 G allocations: 3.226 TiB, 7.97% gc time)\n"
     ]
    },
    {
     "data": {
      "text/plain": [
       "([1.0, 1.0404040404040404, 1.0808080808080809, 1.121212121212121, 1.1616161616161615, 1.202020202020202, 1.2424242424242424, 1.2828282828282829, 1.3232323232323233, 1.3636363636363635  …  4.636363636363637, 4.6767676767676765, 4.717171717171717, 4.757575757575758, 4.797979797979798, 4.838383838383838, 4.878787878787879, 4.91919191919192, 4.959595959595959, 5.0], [-19.8, -19.4, -19.0, -18.6, -18.2, -17.8, -17.4, -17.0, -16.6, -16.2  …  16.2, 16.6, 17.0, 17.4, 17.8, 18.2, 18.6, 19.0, 19.4, 19.8], [0, 1], [9.769314350023224 13.530514465716985 … 31.12861671404062 31.21334363980979; 9.941150549925418 13.702350665619178 … 31.16761070001104 31.25215577073172; … ; 20.30428289087535 24.06548300656911 … 34.42651559960026 34.4980428256906; 20.30428289087535 24.06548300656911 … 34.42651559960026 34.4980428256906;;; 9.769314350023224 13.530514465716985 … 31.12861671404062 31.21334363980979; 9.984276488428655 13.703375009987806 … 31.167703084370526 31.2522477693705; … ; 26.420568635661464 26.56176143940403 … 35.03201306816147 35.101389344521266; 26.53185655872195 26.671154212610862 … 35.09749243979783 35.16664144391486], [1.9696969696969697 1.9696969696969697 … 1.9696969696969697 1.9696969696969697; 2.01010101010101 2.01010101010101 … 2.01010101010101 2.01010101010101; … ; 5.0 5.0 … 5.0 5.0; 5.0 5.0 … 5.0 5.0;;; 1.9696969696969697 1.9696969696969697 … 1.9696969696969697 1.9696969696969697; 2.01010101010101 2.01010101010101 … 2.01010101010101 2.01010101010101; … ; 4.959595959595959 4.959595959595959 … 5.0 5.0; 5.0 5.0 … 5.0 5.0], [-19.8 -19.8 … 16.6 17.0; -19.8 -19.8 … 16.6 17.0; … ; -19.8 -19.8 … 15.4 15.8; -19.8 -19.8 … 15.4 15.8;;; -19.8 -19.8 … 16.6 17.0; -19.8 -19.8 … 16.6 17.0; … ; -18.6 -18.6 … 19.0 19.4; -18.6 -18.6 … 19.4 19.8], 277)"
      ]
     },
     "execution_count": 6,
     "metadata": {},
     "output_type": "execute_result"
    }
   ],
   "source": [
    "@time do_VFI(\n",
    "    flow_value, h_grid, a_grid, e_grid, trans_mat, β,\n",
    "    δ=δ, α=α, η=η, A=A, γ=γ, θ=θ, ε=ε, z=z, r=r\n",
    ")"
   ]
  }
 ],
 "metadata": {
  "kernelspec": {
   "display_name": "Julia Auto Threads 1.8.5",
   "language": "julia",
   "name": "julia-auto-threads-1.8"
  },
  "language_info": {
   "file_extension": ".jl",
   "mimetype": "application/julia",
   "name": "julia",
   "version": "1.8.5"
  },
  "orig_nbformat": 4
 },
 "nbformat": 4,
 "nbformat_minor": 2
}
