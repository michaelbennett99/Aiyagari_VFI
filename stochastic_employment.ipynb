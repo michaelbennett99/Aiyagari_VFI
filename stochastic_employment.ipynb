{
 "cells": [
  {
   "cell_type": "code",
   "execution_count": 1,
   "metadata": {},
   "outputs": [],
   "source": [
    "include(\"stochastic_employment.jl\")\n",
    "\n",
    "using ProfileSVG"
   ]
  },
  {
   "cell_type": "code",
   "execution_count": 2,
   "metadata": {},
   "outputs": [
    {
     "data": {
      "text/plain": [
       "8"
      ]
     },
     "execution_count": 2,
     "metadata": {},
     "output_type": "execute_result"
    }
   ],
   "source": [
    "Threads.nthreads()"
   ]
  },
  {
   "cell_type": "code",
   "execution_count": 3,
   "metadata": {},
   "outputs": [
    {
     "data": {
      "text/plain": [
       "([0, 1], [0.050000000000000044 0.95; 0.05 0.95])"
      ]
     },
     "execution_count": 3,
     "metadata": {},
     "output_type": "execute_result"
    }
   ],
   "source": [
    "# Set parameters\n",
    "β = 0.95\n",
    "\n",
    "δ = 0.\n",
    "α  = 1.\n",
    "η = -0.5\n",
    "A = 1.\n",
    "h_0 = 1.\n",
    "\n",
    "γ = 0.\n",
    "θ = 1.\n",
    "ε = 0.5\n",
    "\n",
    "z = 1.\n",
    "r = 0.05\n",
    "\n",
    "λ_f = 0.95\n",
    "λ_l = 0.05\n",
    "\n",
    "# Set up grid lengths\n",
    "h_N = 10\n",
    "a_N = 10\n",
    "e_N = 2\n",
    "\n",
    "# Define parameters\n",
    "a_lbar = -z / r * 0.99\n",
    "\n",
    "# Set up grids\n",
    "h_grid = collect(Float64, range(1, 5, h_N))\n",
    "a_grid = collect(Float64, range(a_lbar, -a_lbar, a_N))\n",
    "e_grid, trans_mat = calculate_emp_process(λ_f, λ_l)"
   ]
  },
  {
   "cell_type": "code",
   "execution_count": 6,
   "metadata": {},
   "outputs": [
    {
     "name": "stdout",
     "output_type": "stream",
     "text": [
      "Making flow value matrix ...\n",
      "Starting iteration ...\n",
      "Iteration 0. Diff = 4.605170185988291.\n",
      "Iteration 25. Diff = 0.41082422334115165.\n",
      "Iteration 50. Diff = 0.11251151260848502.\n",
      "Iteration 75. Diff = 0.030744913138143204.\n",
      "Iteration 100. Diff = 0.00835163220593671.\n",
      "Iteration 125. Diff = 0.0022521174652467835.\n",
      "Iteration 150. Diff = 0.0006050204102123757.\n",
      "Iteration 175. Diff = 0.0001628398408328735.\n",
      "Iteration 200. Diff = 4.4089957540904834e-5.\n",
      "Iteration 225. Diff = 1.202364543217982e-5.\n",
      "Iteration 250. Diff = 3.2995398981938706e-6.\n"
     ]
    },
    {
     "data": {
      "text/plain": [
       "([1.0, 1.4444444444444444, 1.8888888888888888, 2.3333333333333335, 2.7777777777777777, 3.2222222222222223, 3.6666666666666665, 4.111111111111111, 4.555555555555555, 5.0], [-19.8, -15.4, -11.0, -6.6, -2.2, 2.2, 6.6, 11.0, 15.4, 19.8], [0, 1], [4.696309230575277 13.400114740425181 … 28.647589402709123 29.87857735914339; 4.696309230575277 13.400114740425181 … 28.647589402709123 29.87857735914339; … ; 16.08758374691611 23.165859761417963 … 33.6640161339067 34.47859491182869; 16.08758374691611 23.165859761417963 … 33.6640161339067 34.47859491182869;;; 4.696309230575277 13.40011474042518 … 28.647589402709123 29.87857735914339; 7.77381452008264 14.042064483164458 … 28.705444824059096 29.919112271838422; … ; 20.87671067644988 24.939180404314914 … 33.693199804988154 34.5067878533548; 22.081545174222878 26.077737724535094 … 34.37653272395925 35.1571667781542], [1.8888888888888888 1.8888888888888888 … 1.8888888888888888 1.8888888888888888; 1.8888888888888888 1.8888888888888888 … 1.8888888888888888 1.8888888888888888; … ; 5.0 5.0 … 5.0 5.0; 5.0 5.0 … 5.0 5.0;;; 1.8888888888888888 1.8888888888888888 … 1.8888888888888888 1.8888888888888888; 1.8888888888888888 1.8888888888888888 … 1.8888888888888888 1.8888888888888888; … ; 4.555555555555555 4.555555555555555 … 5.0 5.0; 5.0 5.0 … 5.0 5.0], [-19.8 -15.4 … 11.0 15.4; -19.8 -15.4 … 11.0 15.4; … ; -19.8 -15.4 … 11.0 15.4; -19.8 -15.4 … 11.0 15.4;;; -19.8 -15.4 … 11.0 15.4; -19.8 -15.4 … 15.4 19.8; … ; -19.8 -15.4 … 11.0 15.4; -19.8 -15.4 … 15.4 19.8], 275)"
      ]
     },
     "execution_count": 6,
     "metadata": {},
     "output_type": "execute_result"
    }
   ],
   "source": [
    "results = do_VFI(\n",
    "    flow_value, h_grid, a_grid, e_grid, trans_mat, β,\n",
    "    δ=δ, α=α, η=η, A=A, γ=γ, θ=θ, ε=ε, z=z, r=r\n",
    ")"
   ]
  },
  {
   "cell_type": "code",
   "execution_count": 7,
   "metadata": {},
   "outputs": [
    {
     "name": "stdout",
     "output_type": "stream",
     "text": [
      "Making flow value matrix ...\n",
      "Starting iteration ...\n",
      "Iteration 0. Diff = 4.605170185988291.\n",
      "Iteration 25. Diff = 0.41082422334115165.\n",
      "Iteration 50. Diff = 0.11251151260848502.\n",
      "Iteration 75. Diff = 0.030744913138143204.\n",
      "Iteration 100. Diff = 0.00835163220593671.\n",
      "Iteration 125. Diff = 0.0022521174652467835.\n",
      "Iteration 150. Diff = 0.0006050204102123757.\n",
      "Iteration 175. Diff = 0.0001628398408328735.\n",
      "Iteration 200. Diff = 4.4089957540904834e-5.\n",
      "Iteration 225. Diff = 1.202364543217982e-5.\n",
      "Iteration 250. Diff = 3.2995398981938706e-6.\n"
     ]
    }
   ],
   "source": [
    "ProfileSVG.@profview do_VFI(\n",
    "    flow_value, h_grid, a_grid, e_grid, trans_mat, β,\n",
    "    δ=δ, α=α, η=η, A=A, γ=γ, θ=θ, ε=ε, z=z, r=r\n",
    ")\n",
    "ProfileSVG.save(\"profile.svg\")"
   ]
  },
  {
   "cell_type": "code",
   "execution_count": null,
   "metadata": {},
   "outputs": [],
   "source": [
    "@time do_VFI(\n",
    "    flow_value, h_grid, a_grid, e_grid, trans_mat, β,\n",
    "    δ=δ, α=α, η=η, A=A, γ=γ, θ=θ, ε=ε, z=z, r=r\n",
    ")"
   ]
  }
 ],
 "metadata": {
  "kernelspec": {
   "display_name": "Julia Auto Threads 1.8.5",
   "language": "julia",
   "name": "julia-auto-threads-1.8"
  },
  "language_info": {
   "file_extension": ".jl",
   "mimetype": "application/julia",
   "name": "julia",
   "version": "1.8.5"
  },
  "orig_nbformat": 4
 },
 "nbformat": 4,
 "nbformat_minor": 2
}
